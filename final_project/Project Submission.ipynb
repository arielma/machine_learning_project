{
 "cells": [
  {
   "cell_type": "markdown",
   "metadata": {},
   "source": [
    "#### Summarize for us the goal of this project and how machine learning is useful in trying to accomplish it. As part of your answer, give some background on the dataset and how it can be used to answer the project question. Were there any outliers in the data when you got it, and how did you handle those?  \n",
    "\n",
    "The Enron dataset contains data for 146 Enron employees with 21 features including one feature called POI (person of interest) to mark employees who conducted fraudulent activites. The features can be divided into 3 categories:  \n",
    "    \n",
    "   - 14 financial features that relate to employees' financial charateristics, e.g. salary, bonus and total stock value etc.;\n",
    "   - 6 email features that counting number of emails created from/to a person and from/to a POI, e.g. number of emails from POIs to this person, number of emails from this person to POIs etc..\n",
    "   - 1 label feature that is the POI column to indicate whether the employee is an POI or not. There are 18 employees that have been labelled as POIs and 128 employees labelled as non-POIs.\n",
    "   \n",
    "Except email address field and the label field, all other features are numeric.\n",
    "\n",
    "The goal of this project is to use a variaty of machine learning algorithms to classify employees to POI or non-POI category based on financial features and email features. The classification result of each algorithm will then be validated against the label feature and we will use different metrics to measure and compare the quality of each classification model. \n",
    "\n",
    "An outlier with name 'TOTAL' was identified and removed while plotting the salary - bonus scatter plot, as this is the aggregation row for all employee data in the dataset. Also by checking the data manually, a row named 'THE TRAVEL AGENCY IN THE PARK' was also removed as this not seems like a name of a person and therefore removed.  \n",
    "   \n",
    "After removing outliner, there are 18 POIs and 126 non-POIs.\n",
    "\n",
    "While doing data wrangling and EDA (referring to Wrangling and EDA.ipynb), I found that in both finacial features and email features there are NaN values. Considering the size of the dataset is small (144 data points after outlier removal), I am not going to remove these data points. By looking at the histogram of each feature, I found that for most of the features, the distribution is heavily skewed. Therefore NaNs are replaced with median value of the feature. \n",
    "\n"
   ]
  },
  {
   "cell_type": "markdown",
   "metadata": {},
   "source": [
    "#### What features did you end up using in your POI identifier, and what selection process did you use to pick them? Did you have to do any scaling? Why or why not? As part of the assignment, you should attempt to engineer your own feature that does not come ready-made in the dataset -- explain what feature you tried to make, and the rationale behind it. (You do not necessarily have to use it in the final analysis, only engineer and test it.) In your feature selection step, if you used an algorithm like a decision tree, please also give the feature importances of the features that you use, and if you used an automated feature selection function like SelectKBest, please report the feature scores and reasons for your choice of parameter values.  \n",
    "\n",
    "Email address is removed from the feature list as the text of email address will not help in classifying employees.   \n",
    "Intuitively I would think the proportion of emails to or from a POI to the total number of messages of a person may tell something. In other words, the more a person has interactions with POIs, the higher the chance that this person is also a POI. So I have created a column called 'poi_messages_total_messages_ratio'. This column is showing the result of \n",
    "<br>\n",
    "```\n",
    "    (from_poi_to_this_person + from_this_person_to_poi) / (to_messages + from_messages) \n",
    "```\n",
    "<br>\n",
    "\n",
    "A boxplot (see details in Wrangling and EDA.ipynb) shows that in general POIs have higher poi_messages_total_messages_ratio than non-POIs meaning that comparing to non-POIs, POIs have more email interactions with other POIs. So I kept this created feature in my features list for automated feature selection used in the implementation of pipeline of different algorithms. \n",
    "\n",
    "StandardScaler, SelectKBest and PCA algorithms together with KNeighborsClassifier were implemented in a Pipeline object. We need to scale the features because we use both finance features and email features to create the classification model. The finance features are having bigger variance than email features. If scaling is not adopted, most likely PCA will ignore email features even though email features still have great impact on determine if an employee is POI or not. \n",
    "\n",
    "By Using GridSearchCV I was able to give the pipeline a range of numbers and let the GridSearchCV help to find out the best number of features and the best features. GridSearchCV found when k = 13 - meaning that it automatically found the best 13 features and these 13 features can give the best f1 score.\n",
    "These 13 features and their associated feature scores and p-values are listed below. We can see that the newly created feature 'poi_messages_total_messages_ratio' had been selected to be one of the best features."
   ]
  },
  {
   "cell_type": "code",
   "execution_count": 12,
   "metadata": {},
   "outputs": [
    {
     "data": {
      "text/html": [
       "<table>\n",
       "<tbody>\n",
       "<tr><td>Feature Name                     </td><td>Feature Score</td><td>Feature P-Value</td></tr>\n",
       "<tr><td>exercised_stock_options          </td><td>27.45        </td><td>0.000          </td></tr>\n",
       "<tr><td>total_stock_value                </td><td>23.67        </td><td>0.000          </td></tr>\n",
       "<tr><td>bonus                            </td><td>15.80        </td><td>0.000          </td></tr>\n",
       "<tr><td>salary                           </td><td>10.90        </td><td>0.001          </td></tr>\n",
       "<tr><td>deferred_income                  </td><td>10.29        </td><td>0.002          </td></tr>\n",
       "<tr><td>restricted_stock                 </td><td>8.46         </td><td>0.004          </td></tr>\n",
       "<tr><td>total_payments                   </td><td>8.41         </td><td>0.004          </td></tr>\n",
       "<tr><td>long_term_incentive              </td><td>8.36         </td><td>0.004          </td></tr>\n",
       "<tr><td>shared_receipt_with_poi          </td><td>7.48         </td><td>0.007          </td></tr>\n",
       "<tr><td>from_poi_to_this_person          </td><td>4.28         </td><td>0.040          </td></tr>\n",
       "<tr><td>other                            </td><td>3.96         </td><td>0.049          </td></tr>\n",
       "<tr><td>poi_messages_total_messages_ratio</td><td>3.87         </td><td>0.051          </td></tr>\n",
       "<tr><td>loan_advances                    </td><td>3.85         </td><td>0.052          </td></tr>\n",
       "</tbody>\n",
       "</table>"
      ],
      "text/plain": [
       "<IPython.core.display.HTML object>"
      ]
     },
     "metadata": {},
     "output_type": "display_data"
    }
   ],
   "source": [
    "from IPython.display import HTML, display\n",
    "import tabulate\n",
    "table = [['Feature Name', 'Feature Score', 'Feature P-Value'],\n",
    "         ['exercised_stock_options', '27.45', '0.000'],\n",
    "         ['total_stock_value', '23.67', '0.000'],\n",
    "         ['bonus', '15.80', '0.000'],\n",
    "         ['salary', '10.90', '0.001'],\n",
    "         ['deferred_income', '10.29', '0.002'],\n",
    "         ['restricted_stock', '8.46', '0.004'],\n",
    "         ['total_payments', '8.41', '0.004'],\n",
    "         ['long_term_incentive', '8.36', '0.004'],\n",
    "         ['shared_receipt_with_poi', '7.48', '0.007'],\n",
    "         ['from_poi_to_this_person', '4.28', '0.040'],\n",
    "         ['other', '3.96', '0.049'],\n",
    "         ['poi_messages_total_messages_ratio', '3.87', '0.051'],\n",
    "         ['loan_advances', '3.85', '0.052']]\n",
    "display(HTML(tabulate.tabulate(table, tablefmt='html')))"
   ]
  },
  {
   "cell_type": "markdown",
   "metadata": {},
   "source": [
    "ExtraTreesClassifier was another used machine learning algorithm. No automated feature selection was adopted since the algorithm would calculate the feature importace and create a split on the feathre that is separating class labels the best. \n",
    "\n",
    "Here is the feature importance calculated by ExtraTreesClassifier. It shows that the added feature 'poi_messages_total_messages_ratio' actually has the highest importance among all other features."
   ]
  },
  {
   "cell_type": "code",
   "execution_count": 13,
   "metadata": {},
   "outputs": [
    {
     "data": {
      "text/html": [
       "<table>\n",
       "<tbody>\n",
       "<tr><td>Ranking</td><td>Feature Name                     </td><td>Feature Importance</td></tr>\n",
       "<tr><td>1      </td><td>poi_messages_total_messages_ratio</td><td>0.120736988642    </td></tr>\n",
       "<tr><td>2      </td><td>total_stock_value                </td><td>0.0934400583374   </td></tr>\n",
       "<tr><td>3      </td><td>long_term_incentive              </td><td>0.0851866900613   </td></tr>\n",
       "<tr><td>4      </td><td>restricted_stock                 </td><td>0.0790503262437   </td></tr>\n",
       "<tr><td>5      </td><td>bonus                            </td><td>0.0765667638712   </td></tr>\n",
       "<tr><td>6      </td><td>deferred_income                  </td><td>0.069378440718    </td></tr>\n",
       "<tr><td>7      </td><td>exercised_stock_options          </td><td>0.0667708268178   </td></tr>\n",
       "<tr><td>8      </td><td>expenses                         </td><td>0.0621512010884   </td></tr>\n",
       "<tr><td>9      </td><td>total_payments                   </td><td>0.0601142662556   </td></tr>\n",
       "<tr><td>10     </td><td>salary                           </td><td>0.0596834338248   </td></tr>\n",
       "<tr><td>11     </td><td>shared_receipt_with_poi          </td><td>0.0485913063034   </td></tr>\n",
       "<tr><td>12     </td><td>to_messages                      </td><td>0.0418112765536   </td></tr>\n",
       "<tr><td>13     </td><td>from_poi_to_this_person          </td><td>0.0400984895026   </td></tr>\n",
       "<tr><td>14     </td><td>other                            </td><td>0.0389731907082   </td></tr>\n",
       "<tr><td>15     </td><td>from_messages                    </td><td>0.0212271791413   </td></tr>\n",
       "<tr><td>16     </td><td>deferral_payments                </td><td>0.0183765027787   </td></tr>\n",
       "<tr><td>17     </td><td>from_this_person_to_poi          </td><td>0.0109602498195   </td></tr>\n",
       "<tr><td>18     </td><td>director_fees                    </td><td>0.00619003984389  </td></tr>\n",
       "<tr><td>19     </td><td>restricted_stock_deferred        </td><td>0.000692769488946 </td></tr>\n",
       "<tr><td>20     </td><td>loan_advances                    </td><td>0.0               </td></tr>\n",
       "</tbody>\n",
       "</table>"
      ],
      "text/plain": [
       "<IPython.core.display.HTML object>"
      ]
     },
     "metadata": {},
     "output_type": "display_data"
    }
   ],
   "source": [
    "from IPython.display import HTML, display\n",
    "import tabulate\n",
    "table_feature_importances = [\n",
    "         ['Ranking', 'Feature Name', 'Feature Importance'],\n",
    "         [1, 'poi_messages_total_messages_ratio', 0.120736988642],\n",
    "         [2, 'total_stock_value', 0.0934400583374],\n",
    "         [3, 'long_term_incentive', 0.0851866900613],\n",
    "         [4, 'restricted_stock', 0.0790503262437],\n",
    "         [5, 'bonus', 0.0765667638712],\n",
    "         [6, 'deferred_income', 0.069378440718],\n",
    "         [7, 'exercised_stock_options', 0.0667708268178],\n",
    "         [8, 'expenses', 0.0621512010884],\n",
    "         [9, 'total_payments', 0.0601142662556],\n",
    "         [10, 'salary', 0.0596834338248],\n",
    "         [11, 'shared_receipt_with_poi', 0.0485913063034],\n",
    "         [12, 'to_messages', 0.0418112765536],\n",
    "         [13, 'from_poi_to_this_person', 0.0400984895026],\n",
    "         [14, 'other', 0.0389731907082],\n",
    "         [15, 'from_messages', 0.0212271791413],\n",
    "         [16, 'deferral_payments', 0.0183765027787],\n",
    "         [17, 'from_this_person_to_poi', 0.0109602498195],\n",
    "         [18, 'director_fees', 0.00619003984389],\n",
    "         [19, 'restricted_stock_deferred', 0.000692769488946],\n",
    "         [20, 'loan_advances', 0.0]]\n",
    "display(HTML(tabulate.tabulate(table_feature_importances, tablefmt='html')))"
   ]
  },
  {
   "cell_type": "markdown",
   "metadata": {},
   "source": [
    "#### What algorithm did you end up using? What other one(s) did you try? How did model performance differ between algorithms?\n",
    "\n",
    "I used 2 algorithms to be the classification models - ExtraTreesClassifier and KNeighborsClassifier.\n",
    "\n",
    "KNeighborsClassifier algorithm gave better performance in terms of the accuracy of the classification based on Precision and Recall score. KNeighboursClassifer also performed faster with the give parameter grid than ExtraTreesClassifier with the given parameter grid.\n",
    "\n",
    "1. Meaning of parameter tune and why it is important\n",
    "2. At least one important parameter tuned with at least 3 settings investigated systematically, or any of the following are true:\n",
    "\n",
    "--GridSearchCV used for parameter tuning  \n",
    "--Several parameters tuned  \n",
    "--Parameter tuning incorporated into algorithm selection (i.e. parameters tuned for more than one algorithm, and best algorithm-tune combination selected for final analysis)."
   ]
  },
  {
   "cell_type": "markdown",
   "metadata": {},
   "source": [
    "#### What does it mean to tune the parameters of an algorithm, and what can happen if you don’t do this well?  How did you tune the parameters of your particular algorithm? What parameters did you tune? (Some algorithms do not have parameters that you need to tune -- if this is the case for the one you picked, identify and briefly explain how you would have done it for the model that was not your final choice or a different model that does utilize parameter tuning, e.g. a decision tree classifier).  [relevant rubric items: “discuss parameter tuning”, “tune the algorithm”]\n",
    "\n"
   ]
  },
  {
   "cell_type": "markdown",
   "metadata": {},
   "source": [
    "#### What is validation, and what’s a classic mistake you can make if you do it wrong? How did you validate your analysis?  [relevant rubric items: “discuss validation”, “validation strategy”]\n",
    "\n"
   ]
  },
  {
   "cell_type": "markdown",
   "metadata": {},
   "source": [
    "#### Give at least 2 evaluation metrics and your average performance for each of them.  Explain an interpretation of your metrics that says something human-understandable about your algorithm’s performance. [relevant rubric item: “usage of evaluation metrics”]\n",
    "\n",
    "1. At least two appropriate metrics are used to evaluate algorithm performance (e.g. precision and recall), and the student articulates what those metrics measure in context of the project task.\n",
    "\n",
    "2. Response addresses what validation is and why it is important.\n",
    "\n",
    "3. Performance of the final algorithm selected is assessed by splitting the data into training and testing sets or through the use of cross validation, noting the specific type of validation performed.\n",
    "\n",
    "4. When tester.py is used to evaluate performance, precision and recall are both at least 0.3."
   ]
  }
 ],
 "metadata": {
  "kernelspec": {
   "display_name": "Python 2",
   "language": "python",
   "name": "python2"
  },
  "language_info": {
   "codemirror_mode": {
    "name": "ipython",
    "version": 2
   },
   "file_extension": ".py",
   "mimetype": "text/x-python",
   "name": "python",
   "nbconvert_exporter": "python",
   "pygments_lexer": "ipython2",
   "version": "2.7.13"
  }
 },
 "nbformat": 4,
 "nbformat_minor": 2
}
